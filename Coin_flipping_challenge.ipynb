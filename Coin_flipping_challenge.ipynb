{
  "nbformat": 4,
  "nbformat_minor": 0,
  "metadata": {
    "colab": {
      "provenance": []
    },
    "kernelspec": {
      "name": "python3",
      "display_name": "Python 3"
    },
    "language_info": {
      "name": "python"
    }
  },
  "cells": [
    {
      "cell_type": "markdown",
      "source": [
        "## The Coin Flipping Challenge: Alice vs. Bob\n",
        "In the fascinating world of probability and statistics, even the simplest games can spark intriguing questions. Alice and Bob, against each other in a race to spot patterns. Imagine this scenario: 100 coins, each numbered from 1 to 100, are flipped simultaneously. Alice and Bob face a unique challenge—they must examine these coins in search of two consecutive heads (HH) or two consecutive tails (TT).\n",
        "\n",
        "What makes this contest particularly interesting is that each player follows a distinct strategy. Alice follows a methodical approach. She checks the coins in numerical order, starting from 1 and progressing steadily to 100. Bob, on the other hand, embraces a more unconventional method. He begins by examining all the odd-numbered coins—1, 3, 5, and so on—before circling back to tackle the even ones. This means his sequence looks like this: he starts with the odd coins up to 99 and then loops back to check 2, 4, 6, all the way to 100. The question that arises from this setup is both simple and compelling: Which of our contestants is more likely to spot the pattern first?\n",
        "\n",
        " To unravel this mystery, we crafted a Python simulation using powerful libraries like NumPy, Pandas, and Matplotlib. The simulation begins by flipping 100 virtual coins using NumPy's random number generator. We then create separate DataFrames for Alice and Bob, each representing their unique coin-checking sequences. The program meticulously tracks their progress as they search for the first instance of consecutive heads or tails in each of their sequences. But one round isn't enough to draw meaningful conclusions. To ensure statistical significance, we repeated this process thousands of times.\n",
        "\n",
        " After running 10,000 simulations, the results painted an intriguing picture. Surprisingly, Alice emerged victorious more often than Bob. While the exact probabilities fluctuated slightly with each run of the simulation, a clear pattern emerged. Typically, probability of Alice winning is 37%, while Bob trailed slightly behind with victories in approximately 25% of the time. The remaining 37% resulted in ties.\n",
        "\n",
        " These results serve as a powerful reminder of an important lesson in probability: sometimes, the simplest approach proves to be the most effective. Alice's strategy of checking coins in order provides her with a slight but consistent advantage over Bob's more intricate method. This outcome challenges our assumptions about problem-solving strategies.\n",
        "\n",
        " In data analysis and general problem-solving contexts, we might be tempted to believe that more complex methods invariably yield superior results. However, this simulation demonstrates that there are instances where a straightforward path can lead to victory. The beauty of this simulation lies in its accessibility. With just a handful of lines of Python code, anyone can run their own experiments, adjust parameters, and observe how results shift. It provides an excellent opportunity for hands-on experience with probability concepts and data analysis techniques.\n",
        "\n",
        " So next time you find yourself pondering a probability problem or even just flipping coins for fun, remember the tale of Alice and Bob. This coin-flipping saga invites us to question our assumptions, embrace experimentation, and find joy in the unexpected outcomes that probability can offer. It's a reminder that in both coding and life, the simplest solution might be hiding in plain sight—waiting for us to recognize its power."
      ],
      "metadata": {
        "id": "ji1WXg0CJFbl"
      }
    },
    {
      "cell_type": "markdown",
      "source": [
        "#Question:\n",
        " Flip 100 coins, marked 1-100. Each second, Alice and Bob simultaneously check one coin. Alice goes in order (1, 2, 3, …); Bob checks the odd coins, then the even (so 1, 3, 5, …, 99, 2, 4, 6, …). Who is more likely to see two consecutive heads OR two consecutive tails *first*?"
      ],
      "metadata": {
        "id": "JBTqv3VOs2uE"
      }
    },
    {
      "cell_type": "code",
      "execution_count": null,
      "metadata": {
        "id": "3fHI29Q3skiV"
      },
      "outputs": [],
      "source": [
        "import random\n",
        "import numpy as np\n",
        "import pandas as pd\n",
        "import matplotlib.pyplot as plt"
      ]
    },
    {
      "cell_type": "code",
      "source": [
        "def flip_coins(n=100):\n",
        "    return np.random.randint(2, size=n)"
      ],
      "metadata": {
        "id": "e3epySyLzYo0"
      },
      "execution_count": null,
      "outputs": []
    },
    {
      "cell_type": "code",
      "source": [
        "def simulations():\n",
        "    flips = flip_coins()\n",
        "    alice_df = pd.DataFrame({'Order': range(1, 101), 'Flips': flips})\n",
        "    bob_order = list(range(1, 100, 2)) + list(range(2, 101, 2))\n",
        "    bob_df = pd.DataFrame({'Order': bob_order, 'Flips': flips[np.array(bob_order) - 1]})\n",
        "    return alice_df, bob_df\n"
      ],
      "metadata": {
        "id": "V3-tLfcfza7x"
      },
      "execution_count": null,
      "outputs": []
    },
    {
      "cell_type": "code",
      "source": [
        "def check_consecutive(dataframe):\n",
        "    return ((dataframe['Flips'] == dataframe['Flips'].shift()) &\n",
        "            ((dataframe['Flips'] == 0) | (dataframe['Flips'] == 1))).cumsum()"
      ],
      "metadata": {
        "id": "mXpIWyEkzdRq"
      },
      "execution_count": null,
      "outputs": []
    },
    {
      "cell_type": "code",
      "source": [
        "def determine_winner(alice_df, bob_df):\n",
        "    # Get the first winning index for both Alice and Bob\n",
        "    alice_win = check_consecutive(alice_df).ge(1).idxmax()\n",
        "    bob_win = check_consecutive(bob_df).ge(1).idxmax()\n",
        "\n",
        "    # Handle the case where no winner is found\n",
        "    if alice_win == bob_win == 0:\n",
        "        return \"No winner\"\n",
        "\n",
        "    # Determine the winner\n",
        "    if bob_win == 0 or (alice_win != 0 and alice_win < bob_win):\n",
        "        return \"Alice\"\n",
        "    elif alice_win == 0 or (bob_win != 0 and bob_win < alice_win):\n",
        "        return \"Bob\"\n",
        "    else:\n",
        "        return \"Tie\"\n",
        "\n"
      ],
      "metadata": {
        "id": "cfi5X40Yzfof"
      },
      "execution_count": null,
      "outputs": []
    },
    {
      "cell_type": "code",
      "source": [
        "def run_simulations(num_games=10000):\n",
        "\n",
        "\n",
        "    games = [simulations() for _ in range(num_games)]\n",
        "    results = [determine_winner(alice_df, bob_df) for alice_df, bob_df in games]\n",
        "\n",
        "    results_df = pd.DataFrame(results, columns=['Winner'])\n",
        "    winner_counts = results_df['Winner'].value_counts()\n",
        "\n",
        "\n",
        "\n",
        "    print(f'Alice wins with a probability of {winner_counts.get(\"Alice\", 0) / num_games:.4f}')\n",
        "    print(f'Bob wins with a probability of {winner_counts.get(\"Bob\", 0) / num_games:.4f}')\n",
        "    print(f'Ties occur with a probability of {winner_counts.get(\"Tie\", 0) / num_games:.4f}')\n",
        "    print(results_df)\n"
      ],
      "metadata": {
        "id": "bcZ3EaTPxsRL"
      },
      "execution_count": null,
      "outputs": []
    },
    {
      "cell_type": "code",
      "source": [
        "run_simulations()"
      ],
      "metadata": {
        "colab": {
          "base_uri": "https://localhost:8080/"
        },
        "id": "cnasmT7NzklZ",
        "outputId": "5337564c-5c96-4a57-c0a8-57422c1dc966"
      },
      "execution_count": null,
      "outputs": [
        {
          "output_type": "stream",
          "name": "stdout",
          "text": [
            "Alice wins with a probability of 0.3758\n",
            "Bob wins with a probability of 0.2561\n",
            "Ties occur with a probability of 0.3681\n",
            "     Winner\n",
            "0       Tie\n",
            "1     Alice\n",
            "2     Alice\n",
            "3       Tie\n",
            "4     Alice\n",
            "...     ...\n",
            "9995    Tie\n",
            "9996    Tie\n",
            "9997    Bob\n",
            "9998    Tie\n",
            "9999    Bob\n",
            "\n",
            "[10000 rows x 1 columns]\n"
          ]
        }
      ]
    }
  ]
}